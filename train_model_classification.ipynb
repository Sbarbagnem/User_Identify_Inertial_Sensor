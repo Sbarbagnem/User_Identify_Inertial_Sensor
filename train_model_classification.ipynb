{
  "nbformat": 4,
  "nbformat_minor": 0,
  "metadata": {
    "colab": {
      "name": "train_model_classification.ipynb",
      "provenance": [],
      "collapsed_sections": [],
      "authorship_tag": "ABX9TyPPo6KAuGIow1MfxWAT80T8",
      "include_colab_link": true
    },
    "kernelspec": {
      "name": "python3",
      "display_name": "Python 3"
    },
    "accelerator": "GPU"
  },
  "cells": [
    {
      "cell_type": "markdown",
      "metadata": {
        "id": "view-in-github",
        "colab_type": "text"
      },
      "source": [
        "<a href=\"https://colab.research.google.com/github/Sbarbagnem/User_Identify_Inertial_Sensor/blob/master/train_model_classification.ipynb\" target=\"_parent\"><img src=\"https://colab.research.google.com/assets/colab-badge.svg\" alt=\"Open In Colab\"/></a>"
      ]
    },
    {
      "cell_type": "code",
      "metadata": {
        "id": "7mhzQL3vFRUV",
        "colab_type": "code",
        "colab": {}
      },
      "source": [
        "! git clone https://github.com/Sbarbagnem/User_Identify_Inertial_Sensor.git"
      ],
      "execution_count": null,
      "outputs": []
    },
    {
      "cell_type": "code",
      "metadata": {
        "id": "jsN9bCFNHeHm",
        "colab_type": "code",
        "colab": {}
      },
      "source": [
        "! python /content/User_Identify_Inertial_Sensor/train_model.py"
      ],
      "execution_count": null,
      "outputs": []
    }
  ]
}